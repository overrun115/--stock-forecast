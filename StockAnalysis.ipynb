{
  "cells": [
    {
      "cell_type": "markdown",
      "id": "077b22a5-a8c4-433f-b3cb-1f167ac827d5",
      "metadata": {
        "id": "077b22a5-a8c4-433f-b3cb-1f167ac827d5"
      },
      "source": [
        "# Imports"
      ]
    },
    {
      "cell_type": "code",
      "execution_count": 18,
      "id": "f562d77d-5c60-40fb-81d5-f8b0298babef",
      "metadata": {
        "id": "f562d77d-5c60-40fb-81d5-f8b0298babef"
      },
      "outputs": [],
      "source": [
        "import yfinance as yf, numpy as np, pandas as pd\n",
        "from sklearn.tree import DecisionTreeClassifier\n",
        "from sklearn.ensemble import RandomForestClassifier\n",
        "from sklearn.metrics import confusion_matrix, ConfusionMatrixDisplay\n",
        "import math"
      ]
    },
    {
      "cell_type": "markdown",
      "id": "ab73d9b6-7530-4788-b62b-60bf27d07674",
      "metadata": {
        "id": "ab73d9b6-7530-4788-b62b-60bf27d07674"
      },
      "source": [
        "# Data Collection"
      ]
    },
    {
      "cell_type": "markdown",
      "id": "c5115f68",
      "metadata": {},
      "source": [
        "This code snippet processes financial data for multiple stock tickers, calculating various technical metrics and financial features, and prepares the data for further analysis. It includes tasks such as calculating the Relative Strength Index (RSI), volatilities, correlation with the SPY index, and SMA crosses. The data is divided into training and testing sets for future use."
      ]
    },
    {
      "cell_type": "code",
      "execution_count": 19,
      "id": "6846568e-9d7a-47dd-8205-572f34df52e8",
      "metadata": {
        "id": "6846568e-9d7a-47dd-8205-572f34df52e8",
        "outputId": "d40e0893-6e5f-4445-fa58-634c6bae4e65"
      },
      "outputs": [
        {
          "name": "stdout",
          "output_type": "stream",
          "text": [
            "[*********************100%%**********************]  86 of 86 completed\n",
            "[*********************100%%**********************]  1 of 1 completed\n",
            "[*********************100%%**********************]  1 of 1 completed\n"
          ]
        },
        {
          "data": {
            "text/plain": [
              "(389890, 55728)"
            ]
          },
          "execution_count": 19,
          "metadata": {},
          "output_type": "execute_result"
        }
      ],
      "source": [
        "smas = ((30, 100), (50, 200), (70, 300))\n",
        "window = 250\n",
        "\n",
        "tickers = ['LMT', 'SO', 'BAC', 'ABT', 'IBM', 'MCD', 'TMO', 'WFC', 'COST', 'TSLA', 'NFLX', 'BA', 'AMAT', 'UNH', 'EXC', 'T',\n",
        " 'C', 'GD', 'SPG', 'INTU', 'AXP', 'GE', 'HD', 'CVX', 'DHR', 'LUV', 'TXN', 'LLY', 'SBUX', 'CVS', 'TGT', 'PEP',\n",
        " 'GOOGL', 'HON', 'JPM', 'QCOM', 'CMCSA', 'VZ', 'FDX', 'PG', 'NEM', 'AAPL', 'LOW', 'DIS', 'SLB', 'PM', 'CSX',\n",
        " 'KO', 'GS', 'MET', 'NSC', 'AMGN', 'MMM', 'META', 'JNJ', 'AMZN', 'INTC', 'V', 'NEE', 'WMT', 'CSCO', 'GM', 'COP',\n",
        " 'CAT', 'ADBE', 'ORCL', 'CME', 'PFE', 'OXY', 'MA', 'MSFT', 'UPS', 'ADP', 'MS', 'CRM', 'UNP', 'MO', 'EMR', 'NVDA',\n",
        " 'GILD', 'BMY', 'ABBV', 'NKE', 'XOM', 'MRK', 'MDLZ']\n",
        "\n",
        "df = yf.download(tickers, start='2000-01-01',auto_adjust=True)\n",
        "spy = yf.download('SPY', start='2000-01-01', auto_adjust=True)\n",
        "vix = yf.download('^VIX', start='2000-01-01', auto_adjust=True)\n",
        "\n",
        "dfs_train, dfs_test = [], []\n",
        "for ticker in tickers:\n",
        "    data = df['Close'][ticker].to_frame()\n",
        "    data.columns = ['Close']\n",
        "    dif = data['Close'].diff()\n",
        "    RSI_CONS = 50\n",
        "    win = pd.DataFrame(np.where(dif > 0, dif, 0))\n",
        "    loss = pd.DataFrame(np.where(dif < 0, abs(dif), 0))\n",
        "    ema_win = win.ewm(alpha=1/RSI_CONS).mean()\n",
        "    ema_loss = loss.ewm(alpha=1/RSI_CONS).mean()\n",
        "    rs = ema_win / ema_loss\n",
        "    rsi = 100 - (100 / (1 + rs))\n",
        "    rsi.index = data.index\n",
        "\n",
        "    data['Close'].ffill(inplace=True) \n",
        "    data['pctChange'] = data['Close'].pct_change()\n",
        "\n",
        "    data['fw'] = data['Close'].shift(-window)/data['Close']-1\n",
        "    data[f'RSI_{RSI_CONS}'] = rsi/100\n",
        "    v = data['pctChange'].rolling(50).std() * 50**0.5\n",
        "    data[' volatility_zs'] = (v - v.rolling(50).mean()) / v.rolling(50).std()\n",
        "    data[' volatility_vix'] = v / vix.Close\n",
        "    data['vix'] = vix.Close\n",
        "\n",
        "    spy_zs_slow = (spy.Close - spy.Close.rolling(80).mean()) / spy.Close.rolling(80).std()\n",
        "    spy_zs_fast = (spy.Close - spy.Close.rolling(40).mean()) / spy.Close.rolling(40).std()\n",
        "\n",
        "    data['SP500_Zscore_fast'] = spy_zs_fast\n",
        "    data['SP500_Zscore_slow'] = spy_zs_slow\n",
        "    data['SP500_rel'] = spy_zs_slow / spy_zs_fast\n",
        "\n",
        "    data['sma_volatility'] = data['pctChange'].rolling(50).std() * 50**0.5\n",
        "    data['ema_volatility'] = data['pctChange'].ewm(span=40).std() * 40**0.5\n",
        "    data['SPY_Corr'] = data.Close.pct_change().rolling(40).corr(spy.Close.pct_change())\n",
        "    c1 = f'cross_{smas[0][0]}_{smas[0][1]}'\n",
        "    c2 = f'cross_{smas[1][0]}_{smas[1][1]}'\n",
        "    c3 = f'cross_{smas[2][0]}_{smas[2][1]}'\n",
        "    data[c1] = data['Close'].rolling(smas[0][0]).mean()/data['Close'].rolling(smas[0][1]).mean()-1\n",
        "    data[c2] = data['Close'].rolling(smas[1][0]).mean()/data['Close'].rolling(smas[1][1]).mean()-1\n",
        "    data[c3] = data['Close'].rolling(smas[2][0]).mean()/data['Close'].rolling(smas[2][1]).mean()-1\n",
        "    qtrain = int(len(data)*0.85)\n",
        "    dfs_train.append(data.reset_index(drop=True).iloc[:qtrain])\n",
        "    dfs_test.append(data.reset_index(drop=True).iloc[qtrain:])\n",
        "\n",
        "data_train = pd.concat(dfs_train).reset_index(drop=True)\n",
        "data_test = pd.concat(dfs_test).reset_index(drop=True)\n",
        "len(data_train.dropna()), len(data_test.dropna())"
      ]
    },
    {
      "cell_type": "markdown",
      "id": "f835686b-e6cb-441d-af34-4e6122cf9786",
      "metadata": {
        "id": "f835686b-e6cb-441d-af34-4e6122cf9786"
      },
      "source": [
        "# Design Matrix"
      ]
    },
    {
      "cell_type": "markdown",
      "id": "5a3539b3",
      "metadata": {},
      "source": [
        "This code snippet continues the data preparation by creating a target variable based on forward returns and separates features and labels. It labels a positive event if the forward return is greater than or equal to 0.14, preparing the data for binary classification tasks in machine learning."
      ]
    },
    {
      "cell_type": "code",
      "execution_count": 20,
      "id": "57508fe7-fbae-45ac-9616-9c3c7e1db7b4",
      "metadata": {
        "id": "57508fe7-fbae-45ac-9616-9c3c7e1db7b4"
      },
      "outputs": [],
      "source": [
        "data_train['target'] = 0\n",
        "data_train.loc[data_train.fw >= 0.14 , 'target'] = 1\n",
        "data_train.dropna(inplace=True)\n",
        "\n",
        "data_test['target'] = 0\n",
        "data_test.loc[data_test.fw >= 0.14 , 'target'] = 1\n",
        "\n",
        "data_test_full = data_test.copy()\n",
        "data_test.dropna(inplace=True)\n",
        "\n",
        "features = 13\n",
        "X_train, X_test = data_train.iloc[:,-(features+1):-1], data_test.iloc[:,-(features+1):-1]\n",
        "y_train, y_test = data_train.iloc[:,-1], data_test.iloc[:,-1]"
      ]
    },
    {
      "cell_type": "code",
      "execution_count": 21,
      "id": "0fb8c856-a74b-44d2-b240-d94801c3682a",
      "metadata": {
        "id": "0fb8c856-a74b-44d2-b240-d94801c3682a",
        "outputId": "e8f74366-4fea-485d-f384-d5d2a2fc8421"
      },
      "outputs": [
        {
          "data": {
            "text/plain": [
              "target\n",
              "0    203563\n",
              "1    186327\n",
              "dtype: int64"
            ]
          },
          "execution_count": 21,
          "metadata": {},
          "output_type": "execute_result"
        }
      ],
      "source": [
        "y_train.to_frame().groupby('target').size()"
      ]
    },
    {
      "cell_type": "markdown",
      "id": "4a19ca97-9992-4f41-a553-685d4eae9fc8",
      "metadata": {
        "id": "4a19ca97-9992-4f41-a553-685d4eae9fc8",
        "tags": []
      },
      "source": [
        "# Fit and Test"
      ]
    },
    {
      "cell_type": "code",
      "execution_count": 22,
      "id": "912712e9-08f3-457e-9ff4-9415efcc1534",
      "metadata": {
        "id": "912712e9-08f3-457e-9ff4-9415efcc1534",
        "outputId": "4762bdfb-76bd-46fa-b59e-ba06cf01f120"
      },
      "outputs": [
        {
          "name": "stdout",
          "output_type": "stream",
          "text": [
            "CPU times: total: 125 ms\n",
            "Wall time: 10.7 s\n"
          ]
        },
        {
          "data": {
            "image/png": "[encoded data removed]",
            "text/plain": [
              "<Figure size 640x480 with 2 Axes>"
            ]
          },
          "metadata": {},
          "output_type": "display_data"
        }
      ],
      "source": [
        "%%time\n",
        "\n",
        "# Each node have at least 30 data\n",
        "levels = int(math.log((len(X_train)/30),2))\n",
        "\n",
        "model = DecisionTreeClassifier(criterion = 'entropy', max_depth=levels, random_state=1)\n",
        "model.fit(X_train, y_train)\n",
        "y_pred = model.predict(X_test)\n",
        "\n",
        "disp = ConfusionMatrixDisplay.from_estimator(model, X_test.dropna(), y_test.dropna(), normalize='pred',\n",
        "                                             display_labels=['Down +14%','Up +14%'], cmap='Blues')\n",
        "\n",
        "m = disp.confusion_matrix"
      ]
    },
    {
      "cell_type": "markdown",
      "id": "f39dd573-0389-45f6-a2fb-d6f20ed4f04a",
      "metadata": {
        "id": "f39dd573-0389-45f6-a2fb-d6f20ed4f04a"
      },
      "source": [
        "## We analyze different targets that +14%"
      ]
    },
    {
      "cell_type": "code",
      "execution_count": 23,
      "id": "d567fad5-a53a-47c1-b158-94a24c5cae96",
      "metadata": {
        "id": "d567fad5-a53a-47c1-b158-94a24c5cae96",
        "outputId": "bdf24605-a007-4ad7-adbd-9fa2e07a45bb"
      },
      "outputs": [
        {
          "data": {
            "image/png": "[encoded data removed]",
            "text/plain": [
              "<Figure size 640x480 with 2 Axes>"
            ]
          },
          "metadata": {},
          "output_type": "display_data"
        }
      ],
      "source": [
        "NEW_TARGET = 0.0\n",
        "\n",
        "data_test_alt = data_test.copy()\n",
        "data_test_alt['target'] = 0\n",
        "data_test_alt.loc[data_test_alt.fw >= NEW_TARGET , 'target'] = 1\n",
        "y_test_alt =  data_test_alt.iloc[:,-1]\n",
        "\n",
        "# Since the trained model is the same, I only evaluate with the different criteria from the target\n",
        "disp = ConfusionMatrixDisplay.from_estimator(model, X_test.dropna(), y_test_alt.dropna(), normalize='pred',\n",
        "                                             display_labels=[f'Down +{NEW_TARGET:.0%}',f'Up +{NEW_TARGET:.0%}%'],\n",
        "                                             cmap='Blues')\n",
        "\n",
        "\n",
        "m = disp.confusion_matrix"
      ]
    },
    {
      "cell_type": "code",
      "execution_count": 24,
      "id": "7c73dac6-2d95-4eed-87e9-524577de6b23",
      "metadata": {
        "id": "7c73dac6-2d95-4eed-87e9-524577de6b23",
        "outputId": "e873e71f-59b3-417b-a914-c1e25ef88d9c"
      },
      "outputs": [
        {
          "data": {
            "text/plain": [
              "-0.044692336142777095"
            ]
          },
          "execution_count": 24,
          "metadata": {},
          "output_type": "execute_result"
        }
      ],
      "source": [
        "data_test.quantile(0.28).fw"
      ]
    },
    {
      "cell_type": "code",
      "execution_count": 25,
      "id": "0803c867-d932-4b2e-b396-4209ad3c8522",
      "metadata": {
        "id": "0803c867-d932-4b2e-b396-4209ad3c8522",
        "outputId": "316ef573-939e-4b26-acd8-1a8397ce67f8"
      },
      "outputs": [
        {
          "data": {
            "text/plain": [
              "0.10671577936492904"
            ]
          },
          "execution_count": 25,
          "metadata": {},
          "output_type": "execute_result"
        }
      ],
      "source": [
        "data_test.fw.median()"
      ]
    },
    {
      "cell_type": "markdown",
      "id": "7f522a7c-5eba-4992-bd86-082db015890d",
      "metadata": {
        "id": "7f522a7c-5eba-4992-bd86-082db015890d"
      },
      "source": [
        "# Calculation proxy Mathematical hope"
      ]
    },
    {
      "cell_type": "code",
      "execution_count": 26,
      "id": "8edf4667-e30f-48f5-9645-3338745c4bb1",
      "metadata": {
        "id": "8edf4667-e30f-48f5-9645-3338745c4bb1",
        "outputId": "cc8fff97-0631-4075-e99e-4898eabdc91b"
      },
      "outputs": [
        {
          "data": {
            "text/plain": [
              "0.10671577936492904"
            ]
          },
          "execution_count": 26,
          "metadata": {},
          "output_type": "execute_result"
        }
      ],
      "source": [
        "data_test.fw.median()"
      ]
    },
    {
      "cell_type": "code",
      "execution_count": 27,
      "id": "f4996eb5-04ad-41b2-b345-9c875ebba5a1",
      "metadata": {
        "id": "f4996eb5-04ad-41b2-b345-9c875ebba5a1",
        "outputId": "fb84f5dc-0ec4-4953-c053-e5b9a1489f4d"
      },
      "outputs": [
        {
          "data": {
            "text/plain": [
              "(0.36705303460115013, -0.28605267299772225)"
            ]
          },
          "execution_count": 27,
          "metadata": {},
          "output_type": "execute_result"
        }
      ],
      "source": [
        "# Average of winning and losing trades (up +11%, down -11%)\n",
        "w_mean = math.log(data_test.loc[data_test.fw>0.11].fw.mean() +1)\n",
        "l_mean = math.log(data_test.loc[data_test.fw<-0.11].fw.mean() +1)\n",
        "\n",
        "w_mean, l_mean"
      ]
    },
    {
      "cell_type": "code",
      "execution_count": 28,
      "id": "3e9674cf-c2c9-4a19-81be-792c6bf39273",
      "metadata": {
        "id": "3e9674cf-c2c9-4a19-81be-792c6bf39273",
        "outputId": "3aed9ba7-cbe3-4065-d58f-34ce7a2d3d92"
      },
      "outputs": [
        {
          "data": {
            "text/plain": [
              "(0.5409597880432461, 0.13858382120422205)"
            ]
          },
          "execution_count": 28,
          "metadata": {},
          "output_type": "execute_result"
        }
      ],
      "source": [
        "# % of positive trades (above +14%) and negative trades (below -14%)\n",
        "# Recalculate the validation values ​​based on the target\n",
        "def getTestAlt(TARGET):\n",
        "    data_test_alt = data_test.copy()\n",
        "    data_test_alt['target'] = 0\n",
        "    data_test_alt.loc[data_test_alt.fw >= TARGET , 'target'] = 1\n",
        "    y_test_alt =  data_test_alt.iloc[:,-1]\n",
        "    return y_test_alt\n",
        "\n",
        "# I use the confusion matrix to calculate the probability of hitting or missing\n",
        "m_up_11 = np.array(confusion_matrix(getTestAlt(0.14), y_pred, normalize='pred'))\n",
        "win_q = m_up_11[1][1]\n",
        "\n",
        "m_down_11 = np.array(confusion_matrix(getTestAlt(-0.14), y_pred, normalize='pred'))\n",
        "loss_q = m_down_11[0][1]\n",
        "\n",
        "win_q, loss_q"
      ]
    },
    {
      "cell_type": "code",
      "execution_count": 29,
      "id": "c9e65227-6d00-4932-ae23-6b9420815866",
      "metadata": {
        "id": "c9e65227-6d00-4932-ae23-6b9420815866",
        "outputId": "0a54a0c4-3285-41f5-c50f-597b57f8c7fc"
      },
      "outputs": [
        {
          "data": {
            "text/plain": [
              "(0.7960633882530499, 0.20393661174695005)"
            ]
          },
          "execution_count": 29,
          "metadata": {},
          "output_type": "execute_result"
        }
      ],
      "source": [
        "# I normalize the probabilities to 100%\n",
        "# I am discarding all trades between -14% and 14% because I assume they offset each other\n",
        "win_perc, loss_perc = win_q/(win_q+loss_q), loss_q/(win_q+loss_q)\n",
        "win_perc, loss_perc"
      ]
    },
    {
      "cell_type": "code",
      "execution_count": 30,
      "id": "6f02ee54-db39-4525-b160-4b819f826441",
      "metadata": {
        "id": "6f02ee54-db39-4525-b160-4b819f826441",
        "outputId": "c84fba0f-c9bf-47a1-e1b5-51a69d4fba56"
      },
      "outputs": [
        {
          "data": {
            "text/plain": [
              "0.26346869292335184"
            ]
          },
          "execution_count": 30,
          "metadata": {},
          "output_type": "execute_result"
        }
      ],
      "source": [
        "# Mathematical mean\n",
        "E = math.e** (w_mean * win_perc + l_mean * loss_perc) - 1\n",
        "E"
      ]
    }
  ],
  "metadata": {
    "colab": {
      "provenance": []
    },
    "kernelspec": {
      "display_name": "Python 3 (ipykernel)",
      "language": "python",
      "name": "python3"
    },
    "language_info": {
      "codemirror_mode": {
        "name": "ipython",
        "version": 3
      },
      "file_extension": ".py",
      "mimetype": "text/x-python",
      "name": "python",
      "nbconvert_exporter": "python",
      "pygments_lexer": "ipython3",
      "version": "3.11.5"
    }
  },
  "nbformat": 4,
  "nbformat_minor": 5
}
